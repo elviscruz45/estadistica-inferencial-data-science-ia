{
  "nbformat": 4,
  "nbformat_minor": 0,
  "metadata": {
    "colab": {
      "provenance": [],
      "authorship_tag": "ABX9TyMWELg8bf2agE755j7Kt+Sa",
      "include_colab_link": true
    },
    "kernelspec": {
      "name": "python3",
      "display_name": "Python 3"
    },
    "language_info": {
      "name": "python"
    }
  },
  "cells": [
    {
      "cell_type": "markdown",
      "metadata": {
        "id": "view-in-github",
        "colab_type": "text"
      },
      "source": [
        "<a href=\"https://colab.research.google.com/github/elviscruz45/estadistica-inferencial-data-science-ia/blob/master/Bootstrapping_en_Python.ipynb\" target=\"_parent\"><img src=\"https://colab.research.google.com/assets/colab-badge.svg\" alt=\"Open In Colab\"/></a>"
      ]
    },
    {
      "cell_type": "markdown",
      "source": [],
      "metadata": {
        "id": "2zCgYGM5k--M"
      }
    },
    {
      "cell_type": "code",
      "execution_count": 1,
      "metadata": {
        "id": "h7Hb9MoqkCM8"
      },
      "outputs": [],
      "source": [
        "import pandas as pd\n",
        "import numpy as np\n",
        "import random"
      ]
    },
    {
      "cell_type": "code",
      "source": [
        "data=np.random.normal(loc=34,size=10000)\n",
        "data"
      ],
      "metadata": {
        "colab": {
          "base_uri": "https://localhost:8080/"
        },
        "id": "kvjGvq9dlU4a",
        "outputId": "a57a2a70-e8a3-44a2-e28a-1308f85983a9"
      },
      "execution_count": 3,
      "outputs": [
        {
          "output_type": "execute_result",
          "data": {
            "text/plain": [
              "array([35.65492172, 35.12917252, 33.21680836, ..., 32.9437464 ,\n",
              "       34.99761192, 35.03564544])"
            ]
          },
          "metadata": {},
          "execution_count": 3
        }
      ]
    },
    {
      "cell_type": "code",
      "source": [
        "data.mean()"
      ],
      "metadata": {
        "colab": {
          "base_uri": "https://localhost:8080/"
        },
        "id": "x-gef48kltIN",
        "outputId": "abd132bf-d89c-4c41-8911-3dff1d6db414"
      },
      "execution_count": 4,
      "outputs": [
        {
          "output_type": "execute_result",
          "data": {
            "text/plain": [
              "33.995850663015744"
            ]
          },
          "metadata": {},
          "execution_count": 4
        }
      ]
    },
    {
      "cell_type": "markdown",
      "source": [
        "### Iniciamos bootstrapping para calcular el promedio de edades"
      ],
      "metadata": {
        "id": "r4Nn0XG_oAPR"
      }
    },
    {
      "cell_type": "code",
      "source": [
        "promedio=[]\n",
        "for i in range(40):\n",
        "  muestra=random.sample(data.tolist(),5)\n",
        "  prom=np.mean(muestra)\n",
        "  promedio.append(prom)"
      ],
      "metadata": {
        "id": "eZjdTO9Tn5id"
      },
      "execution_count": 8,
      "outputs": []
    },
    {
      "cell_type": "code",
      "source": [
        "np.mean(promedio)"
      ],
      "metadata": {
        "colab": {
          "base_uri": "https://localhost:8080/"
        },
        "id": "ItaVDJ2nohUN",
        "outputId": "ad5c3a98-6ede-42d3-e3c3-3454a7568060"
      },
      "execution_count": 9,
      "outputs": [
        {
          "output_type": "execute_result",
          "data": {
            "text/plain": [
              "34.03151860727095"
            ]
          },
          "metadata": {},
          "execution_count": 9
        }
      ]
    },
    {
      "cell_type": "code",
      "source": [
        "random.sample(data.tolist(),5)"
      ],
      "metadata": {
        "colab": {
          "base_uri": "https://localhost:8080/"
        },
        "id": "7asV_1onpMnV",
        "outputId": "d5445b42-f48f-4c8c-e258-9ddf82a202d3"
      },
      "execution_count": 7,
      "outputs": [
        {
          "output_type": "execute_result",
          "data": {
            "text/plain": [
              "[32.81750445990294,\n",
              " 34.89380925956166,\n",
              " 34.37897292867087,\n",
              " 32.958765355265186,\n",
              " 33.80114317680527]"
            ]
          },
          "metadata": {},
          "execution_count": 7
        }
      ]
    }
  ]
}