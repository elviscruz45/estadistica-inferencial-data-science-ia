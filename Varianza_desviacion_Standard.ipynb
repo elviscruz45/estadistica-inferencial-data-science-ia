{
  "nbformat": 4,
  "nbformat_minor": 0,
  "metadata": {
    "colab": {
      "provenance": [],
      "authorship_tag": "ABX9TyNC2D+FBhRXIW5+QYj3P1md",
      "include_colab_link": true
    },
    "kernelspec": {
      "name": "python3",
      "display_name": "Python 3"
    },
    "language_info": {
      "name": "python"
    }
  },
  "cells": [
    {
      "cell_type": "markdown",
      "metadata": {
        "id": "view-in-github",
        "colab_type": "text"
      },
      "source": [
        "<a href=\"https://colab.research.google.com/github/elviscruz45/estadistica-inferencial-data-science-ia/blob/master/Varianza_desviacion_Standard.ipynb\" target=\"_parent\"><img src=\"https://colab.research.google.com/assets/colab-badge.svg\" alt=\"Open In Colab\"/></a>"
      ]
    },
    {
      "cell_type": "code",
      "execution_count": 1,
      "metadata": {
        "id": "T3j1hKbEVk7m"
      },
      "outputs": [],
      "source": [
        "import pandas as pd\n",
        "import numpy as np\n",
        "import matplotlib.pyplot as plt\n",
        "import seaborn as sns\n"
      ]
    },
    {
      "cell_type": "markdown",
      "source": [
        "###  Leemos la base de datos a trabajar en nuestra ruta de origen\n"
      ],
      "metadata": {
        "id": "kqbhyuBxV6bL"
      }
    },
    {
      "cell_type": "markdown",
      "source": [],
      "metadata": {
        "id": "gVAr3haAV6Td"
      }
    },
    {
      "cell_type": "code",
      "source": [
        "url= \"https://archive.ics.uci.edu/ml/machine-learning-databases/iris/iris.data\""
      ],
      "metadata": {
        "id": "34VoQG7TV5im"
      },
      "execution_count": 13,
      "outputs": []
    },
    {
      "cell_type": "code",
      "source": [
        "names=[\"sepal-length\",\"sepal-width\",\"petal-length\",\"petal-width\",\"class\"]\n",
        "iris=pd.read_csv(url,names=names)"
      ],
      "metadata": {
        "id": "87fM0eZOWB_3"
      },
      "execution_count": 14,
      "outputs": []
    },
    {
      "cell_type": "code",
      "source": [
        "len(iris)"
      ],
      "metadata": {
        "colab": {
          "base_uri": "https://localhost:8080/"
        },
        "id": "Q--d7cerdC2Q",
        "outputId": "0f694b16-8d9d-43d5-f187-6b750f0212df"
      },
      "execution_count": 20,
      "outputs": [
        {
          "output_type": "execute_result",
          "data": {
            "text/plain": [
              "150"
            ]
          },
          "metadata": {},
          "execution_count": 20
        }
      ]
    },
    {
      "cell_type": "code",
      "source": [
        "iris.head()"
      ],
      "metadata": {
        "colab": {
          "base_uri": "https://localhost:8080/",
          "height": 228
        },
        "id": "7S_hmByZYCFV",
        "outputId": "1716495a-be2d-431f-83c9-64ec791a04a7"
      },
      "execution_count": 15,
      "outputs": [
        {
          "output_type": "execute_result",
          "data": {
            "text/plain": [
              "   sepal-length  sepal-width  petal-length  petal-width        class\n",
              "0           5.1          3.5           1.4          0.2  Iris-setosa\n",
              "1           4.9          3.0           1.4          0.2  Iris-setosa\n",
              "2           4.7          3.2           1.3          0.2  Iris-setosa\n",
              "3           4.6          3.1           1.5          0.2  Iris-setosa\n",
              "4           5.0          3.6           1.4          0.2  Iris-setosa"
            ],
            "text/html": [
              "\n",
              "  <div id=\"df-447f380e-904c-4219-a40b-a83a627ce0d2\">\n",
              "    <div class=\"colab-df-container\">\n",
              "      <div>\n",
              "<style scoped>\n",
              "    .dataframe tbody tr th:only-of-type {\n",
              "        vertical-align: middle;\n",
              "    }\n",
              "\n",
              "    .dataframe tbody tr th {\n",
              "        vertical-align: top;\n",
              "    }\n",
              "\n",
              "    .dataframe thead th {\n",
              "        text-align: right;\n",
              "    }\n",
              "</style>\n",
              "<table border=\"1\" class=\"dataframe\">\n",
              "  <thead>\n",
              "    <tr style=\"text-align: right;\">\n",
              "      <th></th>\n",
              "      <th>sepal-length</th>\n",
              "      <th>sepal-width</th>\n",
              "      <th>petal-length</th>\n",
              "      <th>petal-width</th>\n",
              "      <th>class</th>\n",
              "    </tr>\n",
              "  </thead>\n",
              "  <tbody>\n",
              "    <tr>\n",
              "      <th>0</th>\n",
              "      <td>5.1</td>\n",
              "      <td>3.5</td>\n",
              "      <td>1.4</td>\n",
              "      <td>0.2</td>\n",
              "      <td>Iris-setosa</td>\n",
              "    </tr>\n",
              "    <tr>\n",
              "      <th>1</th>\n",
              "      <td>4.9</td>\n",
              "      <td>3.0</td>\n",
              "      <td>1.4</td>\n",
              "      <td>0.2</td>\n",
              "      <td>Iris-setosa</td>\n",
              "    </tr>\n",
              "    <tr>\n",
              "      <th>2</th>\n",
              "      <td>4.7</td>\n",
              "      <td>3.2</td>\n",
              "      <td>1.3</td>\n",
              "      <td>0.2</td>\n",
              "      <td>Iris-setosa</td>\n",
              "    </tr>\n",
              "    <tr>\n",
              "      <th>3</th>\n",
              "      <td>4.6</td>\n",
              "      <td>3.1</td>\n",
              "      <td>1.5</td>\n",
              "      <td>0.2</td>\n",
              "      <td>Iris-setosa</td>\n",
              "    </tr>\n",
              "    <tr>\n",
              "      <th>4</th>\n",
              "      <td>5.0</td>\n",
              "      <td>3.6</td>\n",
              "      <td>1.4</td>\n",
              "      <td>0.2</td>\n",
              "      <td>Iris-setosa</td>\n",
              "    </tr>\n",
              "  </tbody>\n",
              "</table>\n",
              "</div>\n",
              "      <button class=\"colab-df-convert\" onclick=\"convertToInteractive('df-447f380e-904c-4219-a40b-a83a627ce0d2')\"\n",
              "              title=\"Convert this dataframe to an interactive table.\"\n",
              "              style=\"display:none;\">\n",
              "        \n",
              "  <svg xmlns=\"http://www.w3.org/2000/svg\" height=\"24px\"viewBox=\"0 0 24 24\"\n",
              "       width=\"24px\">\n",
              "    <path d=\"M0 0h24v24H0V0z\" fill=\"none\"/>\n",
              "    <path d=\"M18.56 5.44l.94 2.06.94-2.06 2.06-.94-2.06-.94-.94-2.06-.94 2.06-2.06.94zm-11 1L8.5 8.5l.94-2.06 2.06-.94-2.06-.94L8.5 2.5l-.94 2.06-2.06.94zm10 10l.94 2.06.94-2.06 2.06-.94-2.06-.94-.94-2.06-.94 2.06-2.06.94z\"/><path d=\"M17.41 7.96l-1.37-1.37c-.4-.4-.92-.59-1.43-.59-.52 0-1.04.2-1.43.59L10.3 9.45l-7.72 7.72c-.78.78-.78 2.05 0 2.83L4 21.41c.39.39.9.59 1.41.59.51 0 1.02-.2 1.41-.59l7.78-7.78 2.81-2.81c.8-.78.8-2.07 0-2.86zM5.41 20L4 18.59l7.72-7.72 1.47 1.35L5.41 20z\"/>\n",
              "  </svg>\n",
              "      </button>\n",
              "      \n",
              "  <style>\n",
              "    .colab-df-container {\n",
              "      display:flex;\n",
              "      flex-wrap:wrap;\n",
              "      gap: 12px;\n",
              "    }\n",
              "\n",
              "    .colab-df-convert {\n",
              "      background-color: #E8F0FE;\n",
              "      border: none;\n",
              "      border-radius: 50%;\n",
              "      cursor: pointer;\n",
              "      display: none;\n",
              "      fill: #1967D2;\n",
              "      height: 32px;\n",
              "      padding: 0 0 0 0;\n",
              "      width: 32px;\n",
              "    }\n",
              "\n",
              "    .colab-df-convert:hover {\n",
              "      background-color: #E2EBFA;\n",
              "      box-shadow: 0px 1px 2px rgba(60, 64, 67, 0.3), 0px 1px 3px 1px rgba(60, 64, 67, 0.15);\n",
              "      fill: #174EA6;\n",
              "    }\n",
              "\n",
              "    [theme=dark] .colab-df-convert {\n",
              "      background-color: #3B4455;\n",
              "      fill: #D2E3FC;\n",
              "    }\n",
              "\n",
              "    [theme=dark] .colab-df-convert:hover {\n",
              "      background-color: #434B5C;\n",
              "      box-shadow: 0px 1px 3px 1px rgba(0, 0, 0, 0.15);\n",
              "      filter: drop-shadow(0px 1px 2px rgba(0, 0, 0, 0.3));\n",
              "      fill: #FFFFFF;\n",
              "    }\n",
              "  </style>\n",
              "\n",
              "      <script>\n",
              "        const buttonEl =\n",
              "          document.querySelector('#df-447f380e-904c-4219-a40b-a83a627ce0d2 button.colab-df-convert');\n",
              "        buttonEl.style.display =\n",
              "          google.colab.kernel.accessAllowed ? 'block' : 'none';\n",
              "\n",
              "        async function convertToInteractive(key) {\n",
              "          const element = document.querySelector('#df-447f380e-904c-4219-a40b-a83a627ce0d2');\n",
              "          const dataTable =\n",
              "            await google.colab.kernel.invokeFunction('convertToInteractive',\n",
              "                                                     [key], {});\n",
              "          if (!dataTable) return;\n",
              "\n",
              "          const docLinkHtml = 'Like what you see? Visit the ' +\n",
              "            '<a target=\"_blank\" href=https://colab.research.google.com/notebooks/data_table.ipynb>data table notebook</a>'\n",
              "            + ' to learn more about interactive tables.';\n",
              "          element.innerHTML = '';\n",
              "          dataTable['output_type'] = 'display_data';\n",
              "          await google.colab.output.renderOutput(dataTable, element);\n",
              "          const docLink = document.createElement('div');\n",
              "          docLink.innerHTML = docLinkHtml;\n",
              "          element.appendChild(docLink);\n",
              "        }\n",
              "      </script>\n",
              "    </div>\n",
              "  </div>\n",
              "  "
            ]
          },
          "metadata": {},
          "execution_count": 15
        }
      ]
    },
    {
      "cell_type": "markdown",
      "source": [
        "![petalo-sepalo.jpeg](data:image/jpeg;base64,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)"
      ],
      "metadata": {
        "id": "MvT1xdD4b6BW"
      }
    },
    {
      "cell_type": "code",
      "source": [
        "plt.hist(iris[\"sepal-length\"],color=\"blue\",bins=int(180/4))"
      ],
      "metadata": {
        "colab": {
          "base_uri": "https://localhost:8080/",
          "height": 461
        },
        "id": "p29p23ogb_fb",
        "outputId": "432cf413-a143-4c6e-ea10-a47c0a98e8fd"
      },
      "execution_count": 22,
      "outputs": [
        {
          "output_type": "execute_result",
          "data": {
            "text/plain": [
              "(array([ 1.,  3.,  1.,  4.,  0.,  2.,  5.,  6., 10.,  0.,  9.,  4.,  1.,\n",
              "         6.,  0.,  7.,  6.,  8.,  7.,  0.,  3.,  6.,  6.,  4.,  9.,  0.,\n",
              "         7.,  5.,  2.,  0.,  8.,  3.,  4.,  1.,  1.,  0.,  3.,  1.,  1.,\n",
              "         0.,  0.,  1.,  4.,  0.,  1.]),\n",
              " array([4.3 , 4.38, 4.46, 4.54, 4.62, 4.7 , 4.78, 4.86, 4.94, 5.02, 5.1 ,\n",
              "        5.18, 5.26, 5.34, 5.42, 5.5 , 5.58, 5.66, 5.74, 5.82, 5.9 , 5.98,\n",
              "        6.06, 6.14, 6.22, 6.3 , 6.38, 6.46, 6.54, 6.62, 6.7 , 6.78, 6.86,\n",
              "        6.94, 7.02, 7.1 , 7.18, 7.26, 7.34, 7.42, 7.5 , 7.58, 7.66, 7.74,\n",
              "        7.82, 7.9 ]),\n",
              " <a list of 45 Patch objects>)"
            ]
          },
          "metadata": {},
          "execution_count": 22
        },
        {
          "output_type": "display_data",
          "data": {
            "text/plain": [
              "<Figure size 432x288 with 1 Axes>"
            ],
            "image/png": "[encoded data removed]"
          },
          "metadata": {
            "needs_background": "light"
          }
        }
      ]
    },
    {
      "cell_type": "code",
      "source": [
        "sns.distplot(iris[\"sepal-length\"],hist=True,kde=True,bins=int(180/4),color=\"orange\")"
      ],
      "metadata": {
        "colab": {
          "base_uri": "https://localhost:8080/",
          "height": 352
        },
        "id": "uoXPYMYwg7Az",
        "outputId": "f14465c4-2497-4d8f-ffd0-666a91837bd0"
      },
      "execution_count": 25,
      "outputs": [
        {
          "output_type": "stream",
          "name": "stderr",
          "text": [
            "/usr/local/lib/python3.8/dist-packages/seaborn/distributions.py:2619: FutureWarning: `distplot` is a deprecated function and will be removed in a future version. Please adapt your code to use either `displot` (a figure-level function with similar flexibility) or `histplot` (an axes-level function for histograms).\n",
            "  warnings.warn(msg, FutureWarning)\n"
          ]
        },
        {
          "output_type": "execute_result",
          "data": {
            "text/plain": [
              "<matplotlib.axes._subplots.AxesSubplot at 0x7fd494941640>"
            ]
          },
          "metadata": {},
          "execution_count": 25
        },
        {
          "output_type": "display_data",
          "data": {
            "text/plain": [
              "<Figure size 432x288 with 1 Axes>"
            ],
            "image/png": "[encoded data removed]"
          },
          "metadata": {
            "needs_background": "light"
          }
        }
      ]
    },
    {
      "cell_type": "markdown",
      "source": [
        "### Calculo de la varianza\n"
      ],
      "metadata": {
        "id": "hLmKMpsAiCBS"
      }
    },
    {
      "cell_type": "markdown",
      "source": [
        "![1.png](data:image/png;base64,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)"
      ],
      "metadata": {
        "id": "Ax5cgRzoiHzR"
      }
    },
    {
      "cell_type": "code",
      "source": [
        "iris[\"sepal-length\"].var()"
      ],
      "metadata": {
        "colab": {
          "base_uri": "https://localhost:8080/"
        },
        "id": "8uNtq_BViBr9",
        "outputId": "18c60a92-de4b-4dac-8008-79ccdd590af7"
      },
      "execution_count": 26,
      "outputs": [
        {
          "output_type": "execute_result",
          "data": {
            "text/plain": [
              "0.6856935123042507"
            ]
          },
          "metadata": {},
          "execution_count": 26
        }
      ]
    },
    {
      "cell_type": "code",
      "source": [
        "iris[\"sepal-length\"].std()"
      ],
      "metadata": {
        "colab": {
          "base_uri": "https://localhost:8080/"
        },
        "id": "ib5RKdgfk3_B",
        "outputId": "c0a05dac-099b-4aae-898a-8ed4b7cedbad"
      },
      "execution_count": 27,
      "outputs": [
        {
          "output_type": "execute_result",
          "data": {
            "text/plain": [
              "0.828066127977863"
            ]
          },
          "metadata": {},
          "execution_count": 27
        }
      ]
    },
    {
      "cell_type": "code",
      "source": [
        "iris[\"sepal-length\"].mean()"
      ],
      "metadata": {
        "colab": {
          "base_uri": "https://localhost:8080/"
        },
        "id": "8daSGzu_lOZ_",
        "outputId": "03ef88e1-5c07-44d3-ca93-19e3deda01d1"
      },
      "execution_count": 28,
      "outputs": [
        {
          "output_type": "execute_result",
          "data": {
            "text/plain": [
              "5.843333333333334"
            ]
          },
          "metadata": {},
          "execution_count": 28
        }
      ]
    },
    {
      "cell_type": "markdown",
      "source": [
        "### Creacion de uan muestra mediante le muestreo aleatorio simple"
      ],
      "metadata": {
        "id": "a5FjUj6cl9YA"
      }
    },
    {
      "cell_type": "code",
      "source": [
        "muestra=iris.sample(frac=0.5)\n",
        "muestra"
      ],
      "metadata": {
        "colab": {
          "base_uri": "https://localhost:8080/",
          "height": 447
        },
        "id": "UUoM2RD9l8oO",
        "outputId": "f8aff333-0a44-4fce-a301-8d40bd7cdcbc"
      },
      "execution_count": 30,
      "outputs": [
        {
          "output_type": "execute_result",
          "data": {
            "text/plain": [
              "     sepal-length  sepal-width  petal-length  petal-width            class\n",
              "101           5.8          2.7           5.1          1.9   Iris-virginica\n",
              "121           5.6          2.8           4.9          2.0   Iris-virginica\n",
              "62            6.0          2.2           4.0          1.0  Iris-versicolor\n",
              "35            5.0          3.2           1.2          0.2      Iris-setosa\n",
              "71            6.1          2.8           4.0          1.3  Iris-versicolor\n",
              "..            ...          ...           ...          ...              ...\n",
              "5             5.4          3.9           1.7          0.4      Iris-setosa\n",
              "96            5.7          2.9           4.2          1.3  Iris-versicolor\n",
              "138           6.0          3.0           4.8          1.8   Iris-virginica\n",
              "125           7.2          3.2           6.0          1.8   Iris-virginica\n",
              "79            5.7          2.6           3.5          1.0  Iris-versicolor\n",
              "\n",
              "[75 rows x 5 columns]"
            ],
            "text/html": [
              "\n",
              "  <div id=\"df-dfb43e84-2f09-430e-b352-468267177764\">\n",
              "    <div class=\"colab-df-container\">\n",
              "      <div>\n",
              "<style scoped>\n",
              "    .dataframe tbody tr th:only-of-type {\n",
              "        vertical-align: middle;\n",
              "    }\n",
              "\n",
              "    .dataframe tbody tr th {\n",
              "        vertical-align: top;\n",
              "    }\n",
              "\n",
              "    .dataframe thead th {\n",
              "        text-align: right;\n",
              "    }\n",
              "</style>\n",
              "<table border=\"1\" class=\"dataframe\">\n",
              "  <thead>\n",
              "    <tr style=\"text-align: right;\">\n",
              "      <th></th>\n",
              "      <th>sepal-length</th>\n",
              "      <th>sepal-width</th>\n",
              "      <th>petal-length</th>\n",
              "      <th>petal-width</th>\n",
              "      <th>class</th>\n",
              "    </tr>\n",
              "  </thead>\n",
              "  <tbody>\n",
              "    <tr>\n",
              "      <th>101</th>\n",
              "      <td>5.8</td>\n",
              "      <td>2.7</td>\n",
              "      <td>5.1</td>\n",
              "      <td>1.9</td>\n",
              "      <td>Iris-virginica</td>\n",
              "    </tr>\n",
              "    <tr>\n",
              "      <th>121</th>\n",
              "      <td>5.6</td>\n",
              "      <td>2.8</td>\n",
              "      <td>4.9</td>\n",
              "      <td>2.0</td>\n",
              "      <td>Iris-virginica</td>\n",
              "    </tr>\n",
              "    <tr>\n",
              "      <th>62</th>\n",
              "      <td>6.0</td>\n",
              "      <td>2.2</td>\n",
              "      <td>4.0</td>\n",
              "      <td>1.0</td>\n",
              "      <td>Iris-versicolor</td>\n",
              "    </tr>\n",
              "    <tr>\n",
              "      <th>35</th>\n",
              "      <td>5.0</td>\n",
              "      <td>3.2</td>\n",
              "      <td>1.2</td>\n",
              "      <td>0.2</td>\n",
              "      <td>Iris-setosa</td>\n",
              "    </tr>\n",
              "    <tr>\n",
              "      <th>71</th>\n",
              "      <td>6.1</td>\n",
              "      <td>2.8</td>\n",
              "      <td>4.0</td>\n",
              "      <td>1.3</td>\n",
              "      <td>Iris-versicolor</td>\n",
              "    </tr>\n",
              "    <tr>\n",
              "      <th>...</th>\n",
              "      <td>...</td>\n",
              "      <td>...</td>\n",
              "      <td>...</td>\n",
              "      <td>...</td>\n",
              "      <td>...</td>\n",
              "    </tr>\n",
              "    <tr>\n",
              "      <th>5</th>\n",
              "      <td>5.4</td>\n",
              "      <td>3.9</td>\n",
              "      <td>1.7</td>\n",
              "      <td>0.4</td>\n",
              "      <td>Iris-setosa</td>\n",
              "    </tr>\n",
              "    <tr>\n",
              "      <th>96</th>\n",
              "      <td>5.7</td>\n",
              "      <td>2.9</td>\n",
              "      <td>4.2</td>\n",
              "      <td>1.3</td>\n",
              "      <td>Iris-versicolor</td>\n",
              "    </tr>\n",
              "    <tr>\n",
              "      <th>138</th>\n",
              "      <td>6.0</td>\n",
              "      <td>3.0</td>\n",
              "      <td>4.8</td>\n",
              "      <td>1.8</td>\n",
              "      <td>Iris-virginica</td>\n",
              "    </tr>\n",
              "    <tr>\n",
              "      <th>125</th>\n",
              "      <td>7.2</td>\n",
              "      <td>3.2</td>\n",
              "      <td>6.0</td>\n",
              "      <td>1.8</td>\n",
              "      <td>Iris-virginica</td>\n",
              "    </tr>\n",
              "    <tr>\n",
              "      <th>79</th>\n",
              "      <td>5.7</td>\n",
              "      <td>2.6</td>\n",
              "      <td>3.5</td>\n",
              "      <td>1.0</td>\n",
              "      <td>Iris-versicolor</td>\n",
              "    </tr>\n",
              "  </tbody>\n",
              "</table>\n",
              "<p>75 rows × 5 columns</p>\n",
              "</div>\n",
              "      <button class=\"colab-df-convert\" onclick=\"convertToInteractive('df-dfb43e84-2f09-430e-b352-468267177764')\"\n",
              "              title=\"Convert this dataframe to an interactive table.\"\n",
              "              style=\"display:none;\">\n",
              "        \n",
              "  <svg xmlns=\"http://www.w3.org/2000/svg\" height=\"24px\"viewBox=\"0 0 24 24\"\n",
              "       width=\"24px\">\n",
              "    <path d=\"M0 0h24v24H0V0z\" fill=\"none\"/>\n",
              "    <path d=\"M18.56 5.44l.94 2.06.94-2.06 2.06-.94-2.06-.94-.94-2.06-.94 2.06-2.06.94zm-11 1L8.5 8.5l.94-2.06 2.06-.94-2.06-.94L8.5 2.5l-.94 2.06-2.06.94zm10 10l.94 2.06.94-2.06 2.06-.94-2.06-.94-.94-2.06-.94 2.06-2.06.94z\"/><path d=\"M17.41 7.96l-1.37-1.37c-.4-.4-.92-.59-1.43-.59-.52 0-1.04.2-1.43.59L10.3 9.45l-7.72 7.72c-.78.78-.78 2.05 0 2.83L4 21.41c.39.39.9.59 1.41.59.51 0 1.02-.2 1.41-.59l7.78-7.78 2.81-2.81c.8-.78.8-2.07 0-2.86zM5.41 20L4 18.59l7.72-7.72 1.47 1.35L5.41 20z\"/>\n",
              "  </svg>\n",
              "      </button>\n",
              "      \n",
              "  <style>\n",
              "    .colab-df-container {\n",
              "      display:flex;\n",
              "      flex-wrap:wrap;\n",
              "      gap: 12px;\n",
              "    }\n",
              "\n",
              "    .colab-df-convert {\n",
              "      background-color: #E8F0FE;\n",
              "      border: none;\n",
              "      border-radius: 50%;\n",
              "      cursor: pointer;\n",
              "      display: none;\n",
              "      fill: #1967D2;\n",
              "      height: 32px;\n",
              "      padding: 0 0 0 0;\n",
              "      width: 32px;\n",
              "    }\n",
              "\n",
              "    .colab-df-convert:hover {\n",
              "      background-color: #E2EBFA;\n",
              "      box-shadow: 0px 1px 2px rgba(60, 64, 67, 0.3), 0px 1px 3px 1px rgba(60, 64, 67, 0.15);\n",
              "      fill: #174EA6;\n",
              "    }\n",
              "\n",
              "    [theme=dark] .colab-df-convert {\n",
              "      background-color: #3B4455;\n",
              "      fill: #D2E3FC;\n",
              "    }\n",
              "\n",
              "    [theme=dark] .colab-df-convert:hover {\n",
              "      background-color: #434B5C;\n",
              "      box-shadow: 0px 1px 3px 1px rgba(0, 0, 0, 0.15);\n",
              "      filter: drop-shadow(0px 1px 2px rgba(0, 0, 0, 0.3));\n",
              "      fill: #FFFFFF;\n",
              "    }\n",
              "  </style>\n",
              "\n",
              "      <script>\n",
              "        const buttonEl =\n",
              "          document.querySelector('#df-dfb43e84-2f09-430e-b352-468267177764 button.colab-df-convert');\n",
              "        buttonEl.style.display =\n",
              "          google.colab.kernel.accessAllowed ? 'block' : 'none';\n",
              "\n",
              "        async function convertToInteractive(key) {\n",
              "          const element = document.querySelector('#df-dfb43e84-2f09-430e-b352-468267177764');\n",
              "          const dataTable =\n",
              "            await google.colab.kernel.invokeFunction('convertToInteractive',\n",
              "                                                     [key], {});\n",
              "          if (!dataTable) return;\n",
              "\n",
              "          const docLinkHtml = 'Like what you see? Visit the ' +\n",
              "            '<a target=\"_blank\" href=https://colab.research.google.com/notebooks/data_table.ipynb>data table notebook</a>'\n",
              "            + ' to learn more about interactive tables.';\n",
              "          element.innerHTML = '';\n",
              "          dataTable['output_type'] = 'display_data';\n",
              "          await google.colab.output.renderOutput(dataTable, element);\n",
              "          const docLink = document.createElement('div');\n",
              "          docLink.innerHTML = docLinkHtml;\n",
              "          element.appendChild(docLink);\n",
              "        }\n",
              "      </script>\n",
              "    </div>\n",
              "  </div>\n",
              "  "
            ]
          },
          "metadata": {},
          "execution_count": 30
        }
      ]
    },
    {
      "cell_type": "markdown",
      "source": [
        "### Calculo de la varianza"
      ],
      "metadata": {
        "id": "n5wnS4TVmugq"
      }
    },
    {
      "cell_type": "code",
      "source": [
        "muestra[\"sepal-length\"].var()"
      ],
      "metadata": {
        "colab": {
          "base_uri": "https://localhost:8080/"
        },
        "id": "lDVQ3OgOmtkT",
        "outputId": "835365e7-0eef-4512-e103-7101ba165ab6"
      },
      "execution_count": 31,
      "outputs": [
        {
          "output_type": "execute_result",
          "data": {
            "text/plain": [
              "0.7177009009009011"
            ]
          },
          "metadata": {},
          "execution_count": 31
        }
      ]
    },
    {
      "cell_type": "markdown",
      "source": [
        "### Calculo de la desviacion estandar de esta muestra\n"
      ],
      "metadata": {
        "id": "J2vgNxocnPlY"
      }
    },
    {
      "cell_type": "code",
      "source": [
        "muestra[\"sepal-length\"].std()"
      ],
      "metadata": {
        "colab": {
          "base_uri": "https://localhost:8080/"
        },
        "id": "hUy-LGMtnTrg",
        "outputId": "96b8650c-06dd-4e87-fe2b-750432e0da5f"
      },
      "execution_count": 32,
      "outputs": [
        {
          "output_type": "execute_result",
          "data": {
            "text/plain": [
              "0.8471722970570397"
            ]
          },
          "metadata": {},
          "execution_count": 32
        }
      ]
    },
    {
      "cell_type": "code",
      "source": [
        "muestra[\"sepal-length\"].mean()"
      ],
      "metadata": {
        "colab": {
          "base_uri": "https://localhost:8080/"
        },
        "id": "ms3rjZunncg_",
        "outputId": "1151c0ec-68c0-439f-90a1-30268f9fc77d"
      },
      "execution_count": 33,
      "outputs": [
        {
          "output_type": "execute_result",
          "data": {
            "text/plain": [
              "5.798666666666667"
            ]
          },
          "metadata": {},
          "execution_count": 33
        }
      ]
    }
  ]
}